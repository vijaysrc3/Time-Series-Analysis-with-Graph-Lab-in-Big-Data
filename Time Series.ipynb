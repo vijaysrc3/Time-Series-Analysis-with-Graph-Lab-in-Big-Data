{
 "cells": [
  {
   "cell_type": "markdown",
   "metadata": {
    "collapsed": true
   },
   "source": [
    "<h1 style='text-aling:center;color:Navy'>  Big Data Systems - Fall 2021  </h1>\n",
    "<h1 style='text-aling:center;color:Navy'>  Assignment 7 </h1>"
   ]
  },
  {
   "cell_type": "markdown",
   "metadata": {},
   "source": [
    "This assignment is focused on Time Series Analysis and Big Graph Processing with GraphLab.\n",
    "\n",
    "To complete the assignment, you should complete this notebook by filling in the cells provided."
   ]
  },
  {
   "cell_type": "markdown",
   "metadata": {},
   "source": [
    "<b>Submission Deadline: This assignment is due Wednesday, Nov 28 at 11:59 P.M</b>\n",
    "\n",
    "A few notes before you start:\n",
    "- Directly sharing answers is not okay, but discussing problems with other students is encouraged.\n",
    "- You should start early so that you have time to get help if you're stuck.\n",
    "\n",
    "- Before continuing the assignment, select \"Save and Checkpoint\" in the File menu and then execute the submit cell below. The result will contain a link that you can use to check that your assignment has been submitted successfully. If you submit more than once before the deadline, we will only grade your final submission. If you mistakenly submit the wrong one, you can head to okpy.org and flag the correct version. There will be another submit cell at the end of the assignment when you finish!"
   ]
  },
  {
   "cell_type": "markdown",
   "metadata": {},
   "source": [
    "<hr style=\"border-top: 5px solid orange; margin-top: 1px; margin-bottom: 1px\"></hr>\n",
    "<br>\n",
    "Before you begin completing the assignment, execute the following cell to load the provided tests."
   ]
  },
  {
   "cell_type": "code",
   "execution_count": 34,
   "metadata": {},
   "outputs": [
    {
     "name": "stdout",
     "output_type": "stream",
     "text": [
      "=====================================================================\n",
      "Assignment: Assignment7: Time Series Analysis and Big Graph Processing with GraphLab\n",
      "OK, version v1.15.44\n",
      "=====================================================================\n",
      "\n"
     ]
    }
   ],
   "source": [
    "# Don't change this cell; just run it. \n",
    "# When you log-in please hit return (not shift + return) after typing in your email\n",
    "from client.api.notebook import Notebook\n",
    "ok = Notebook('Assignment7.ok')"
   ]
  },
  {
   "cell_type": "code",
   "execution_count": 35,
   "metadata": {},
   "outputs": [
    {
     "data": {
      "application/javascript": [
       "IPython.notebook.save_checkpoint();"
      ],
      "text/plain": [
       "<IPython.core.display.Javascript object>"
      ]
     },
     "metadata": {},
     "output_type": "display_data"
    },
    {
     "data": {
      "application/javascript": [
       "IPython.notebook.save_notebook();"
      ],
      "text/plain": [
       "<IPython.core.display.Javascript object>"
      ]
     },
     "metadata": {},
     "output_type": "display_data"
    },
    {
     "name": "stdout",
     "output_type": "stream",
     "text": [
      "Saving notebook... "
     ]
    },
    {
     "name": "stderr",
     "output_type": "stream",
     "text": [
      "/opt/conda/lib/python3.7/site-packages/urllib3/connectionpool.py:1004: InsecureRequestWarning: Unverified HTTPS request is being made. Adding certificate verification is strongly advised. See: https://urllib3.readthedocs.io/en/latest/advanced-usage.html#ssl-warnings\n",
      "  InsecureRequestWarning,\n",
      "ERROR  | auth.py:101 | {'error': 'invalid_grant'}\n"
     ]
    },
    {
     "name": "stdout",
     "output_type": "stream",
     "text": [
      "Saved 'Assignment7.ipynb'.\n",
      "Performing authentication\n",
      "Please enter your bCourses email: vijayasimha.bheemireddy@ucdenver.edu\n",
      "Unable to find an open port for authentication.\n",
      "\n",
      "Copy the following URL and open it in a web browser. To copy,\n",
      "highlight the URL, right-click, and select \"Copy\".\n",
      "\n",
      "https://kubemaster.ucdenver.pvt:5000/client/login/\n",
      "\n",
      "After logging in, copy the code from the web page, paste it below,\n",
      "and press Enter. To paste, right-click and select \"Paste\".\n",
      "\n",
      "Paste your code here: uZCDkjJXAzUEe284HKsSseDfITdRNn\n"
     ]
    },
    {
     "name": "stderr",
     "output_type": "stream",
     "text": [
      "/opt/conda/lib/python3.7/site-packages/urllib3/connectionpool.py:1004: InsecureRequestWarning: Unverified HTTPS request is being made. Adding certificate verification is strongly advised. See: https://urllib3.readthedocs.io/en/latest/advanced-usage.html#ssl-warnings\n",
      "  InsecureRequestWarning,\n",
      "/opt/conda/lib/python3.7/site-packages/urllib3/connectionpool.py:1004: InsecureRequestWarning: Unverified HTTPS request is being made. Adding certificate verification is strongly advised. See: https://urllib3.readthedocs.io/en/latest/advanced-usage.html#ssl-warnings\n",
      "  InsecureRequestWarning,\n",
      "/opt/conda/lib/python3.7/site-packages/urllib3/connectionpool.py:1004: InsecureRequestWarning: Unverified HTTPS request is being made. Adding certificate verification is strongly advised. See: https://urllib3.readthedocs.io/en/latest/advanced-usage.html#ssl-warnings\n",
      "  InsecureRequestWarning,\n"
     ]
    },
    {
     "name": "stdout",
     "output_type": "stream",
     "text": [
      "Successfully logged in as vijayasimha.bheemireddy@ucdenver.edu\n",
      "Submit... 100% complete\n",
      "Submission successful for user: vijayasimha.bheemireddy@ucdenver.edu\n",
      "URL: https://kubemaster.ucdenver.pvt:5000/UCDenver/CSCI4951-5951/fa21/assignment7/submissions/b8qvjd\n",
      "\n"
     ]
    }
   ],
   "source": [
    "_ = ok.submit()"
   ]
  },
  {
   "cell_type": "markdown",
   "metadata": {},
   "source": [
    "<hr style=\"border-top: 5px solid orange; margin-top: 1px; margin-bottom: 1px\"></hr>"
   ]
  },
  {
   "cell_type": "markdown",
   "metadata": {},
   "source": [
    "<hr style=\"border-top: 5px solid purple; margin-top: 1px; margin-bottom: 1px\"></hr>"
   ]
  },
  {
   "cell_type": "markdown",
   "metadata": {},
   "source": [
    "# <span style=\"color:#3665af\">SECTION 1: Time Series Analysis </span>\n",
    "<hr>"
   ]
  },
  {
   "cell_type": "markdown",
   "metadata": {},
   "source": [
    "###### Goal\n",
    "This assignment covers the topic of time series analysis using TimescaleDB. Make sure you have\n",
    "your system fully configured before starting this assignment. Refer to the Assignment document to do so."
   ]
  },
  {
   "cell_type": "markdown",
   "metadata": {},
   "source": [
    "<div style=\"font-size:20px;color:#F1F8FC;background-color:#0095EA;padding:10px;\">Connect to PostgreSQL</div>"
   ]
  },
  {
   "cell_type": "markdown",
   "metadata": {},
   "source": [
    "This section includes a reminder of how to connect to PostgreSQL.<br>\n",
    "Open PostgreSQL and open the nyc_data database:\n",
    "\n",
    "```\n",
    "psql -U postgres -h localhost -d nyc_data\n",
    "```\n",
    "\n",
    "Then use the following command to see the list of tables:\n",
    "\n",
    "```\n",
    "\\dt\n",
    "```"
   ]
  },
  {
   "cell_type": "markdown",
   "metadata": {},
   "source": [
    "<img src=\"img/img1.png\" style=\"width:800px;\">"
   ]
  },
  {
   "cell_type": "markdown",
   "metadata": {},
   "source": [
    "Now use the following command to see the columns of rides table (you can press q for going back to the terminal):\n",
    "```\n",
    "\\d rides\n",
    "```"
   ]
  },
  {
   "cell_type": "markdown",
   "metadata": {},
   "source": [
    "<img src=\"img/img2.png\" style=\"width:600px;\">"
   ]
  },
  {
   "cell_type": "markdown",
   "metadata": {},
   "source": [
    "<div style=\"font-size:20px;color:#F1F8FC;background-color:#0095EA;padding:10px;\">Run and Study Query Examples</div>"
   ]
  },
  {
   "cell_type": "markdown",
   "metadata": {},
   "source": [
    "## Example 1\n",
    "\n",
    "Find the average fare of rides with 2+ passengers per day until '2016-01-08':"
   ]
  },
  {
   "cell_type": "markdown",
   "metadata": {},
   "source": [
    "```\n",
    "SELECT date_trunc('day', pickup_datetime) as day, avg(fare_amount)\n",
    "FROM rides\n",
    "WHERE passenger_count > 1 AND pickup_datetime < '2016-01-08'\n",
    "GROUP BY day\n",
    "ORDER BY day;\n",
    "```"
   ]
  },
  {
   "cell_type": "markdown",
   "metadata": {},
   "source": [
    "<img src=\"img/img3.png\" style=\"width:600px;\">"
   ]
  },
  {
   "cell_type": "markdown",
   "metadata": {},
   "source": [
    "## Example 2\n",
    "Total number of rides by day for first 5 days"
   ]
  },
  {
   "cell_type": "markdown",
   "metadata": {},
   "source": [
    "```\n",
    "SELECT date_trunc('day', pickup_datetime) as day, COUNT(*) FROM rides\n",
    "GROUP BY day\n",
    "ORDER BY day\n",
    "LIMIT 5;\n",
    "```"
   ]
  },
  {
   "cell_type": "markdown",
   "metadata": {},
   "source": [
    "<img src=\"img/img4.png\" style=\"width:600px;\">"
   ]
  },
  {
   "cell_type": "markdown",
   "metadata": {},
   "source": [
    "Note: The following query is not supported by PostgreSQL itself and time_bucket is provided by timescaledb."
   ]
  },
  {
   "cell_type": "markdown",
   "metadata": {},
   "source": [
    "## Example 3\n",
    "Find the number of rides by 5-minute intervals on 2016-01-01 using the TimescaleDB \"<i>time_bucket</i>\" function"
   ]
  },
  {
   "cell_type": "markdown",
   "metadata": {},
   "source": [
    "```\n",
    "SELECT time_bucket('5 minute', pickup_datetime) as five_min, count(*)\n",
    "FROM rides\n",
    "WHERE pickup_datetime < '2016-01-01 02:00'\n",
    "GROUP BY five_min\n",
    "ORDER BY five_min;\n",
    "```"
   ]
  },
  {
   "cell_type": "markdown",
   "metadata": {},
   "source": [
    "<img src=\"img/img5.png\" style=\"width:600px;\">"
   ]
  },
  {
   "cell_type": "markdown",
   "metadata": {},
   "source": [
    "## Example 4\n",
    "Analyze rides by rate type:"
   ]
  },
  {
   "cell_type": "markdown",
   "metadata": {},
   "source": [
    "```\n",
    "SELECT rate_code, COUNT(vendor_id) as num_trips FROM rides\n",
    "WHERE pickup_datetime < '2016-01-08'\n",
    "GROUP BY rate_code\n",
    "ORDER BY rate_code;\n",
    "```"
   ]
  },
  {
   "cell_type": "markdown",
   "metadata": {},
   "source": [
    "<img src=\"img/img6.png\" style=\"width:600px;\">"
   ]
  },
  {
   "cell_type": "markdown",
   "metadata": {},
   "source": [
    "<i>rate_code</i> doesn't really tell us what these groups represent, and it doesn't look like there is any other\n",
    "info on rates in the rides table. However, there is a separate rates table and TimescaleDB supports JOINs\n",
    "between tables:"
   ]
  },
  {
   "cell_type": "markdown",
   "metadata": {},
   "source": [
    "```\n",
    "SELECT rates.description, COUNT(vendor_id) as num_trips\n",
    "FROM rides JOIN rates on rides.rate_code = rates.rate_code\n",
    "WHERE pickup_datetime < '2016-01-08'\n",
    "GROUP BY rates.description ORDER BY rates.description;\n",
    "```"
   ]
  },
  {
   "cell_type": "markdown",
   "metadata": {},
   "source": [
    "<img src=\"img/img7.png\" style=\"width:600px;\">"
   ]
  },
  {
   "cell_type": "markdown",
   "metadata": {},
   "source": [
    "Now we have something that is human readable. In particular, two of these rate types correspond to local airports (JFK, Newark). Let's take a closer look at those two:"
   ]
  },
  {
   "cell_type": "markdown",
   "metadata": {},
   "source": [
    "```\n",
    "SELECT rates.description, COUNT(vendor_id) as num_trips,\n",
    "        AVG(dropoff_datetime - pickup_datetime) as avg_trip_duration,\n",
    "        AVG(total_amount) as avg_total,\n",
    "        AVG(tip_amount) as avg_tip, MIN(trip_distance) as min_distance,\n",
    "        AVG(trip_distance) as avg_distance, MAX(trip_distance) as\n",
    "        max_distance,\n",
    "        AVG(passenger_count) as avg_passengers\n",
    "FROM rides JOIN rates on rides.rate_code = rates.rate_code\n",
    "WHERE rides.rate_code in (2,3) AND pickup_datetime < '2016-02-01'\n",
    "GROUP BY rates.description\n",
    "ORDER BY rates.description;\n",
    "```"
   ]
  },
  {
   "cell_type": "markdown",
   "metadata": {},
   "source": [
    "<div style=\"font-size:30px;color:#3665af;background-color:#e1dfb1;padding:10px;\">Exercise - Write Queries</div>"
   ]
  },
  {
   "cell_type": "markdown",
   "metadata": {},
   "source": [
    "<div style=\"font-size:20px;color:#F1F8FC;background-color:#557aba;padding:10px;\">Query 1</div>\n"
   ]
  },
  {
   "cell_type": "markdown",
   "metadata": {},
   "source": [
    "Write a query to find the total number of rides, total distance, and total fare for each day and rate_code. Order the result based on day and then rate_code. Do you see any unexpected number(s) in the result suggesting inaccuracy in the dataset?\n",
    "\n",
    "Include your query and its result (copy and paste) into the text file. Do this for Q2 and Q3 as well. Output format should be as follows:"
   ]
  },
  {
   "cell_type": "markdown",
   "metadata": {},
   "source": [
    "<img src=\"img/img8.png\" style=\"width:600px;\">"
   ]
  },
  {
   "cell_type": "markdown",
   "metadata": {},
   "source": [
    "<i>Note that this result is computed over a different dataset. Your result would be different but should follow\n",
    "the same format</i>"
   ]
  },
  {
   "cell_type": "raw",
   "metadata": {},
   "source": [
    "** Write your query here **\n",
    "\n",
    "SELECT  date_trunc('day', pickup_datetime) as day,rides.rate_code, COUNT(vendor_id) as num_of_rides,\n",
    "SUM(total_amount) as total_fare,\n",
    "SUM(trip_distance) as total_distance\n",
    "FROM rides JOIN rates on rides.rate_code = rates.rate_code\n",
    "GROUP BY day, rides.rate_code\n",
    "ORDER BY day;\n",
    "\n",
    "\n",
    "\n",
    "         day         | rate_code | num_of_rides | total_fare | total_distance\n",
    "---------------------+-----------+--------------+------------+----------------\n",
    " 2016-01-01 00:00:00 |         1 |       146749 | 2091570.18 |       424881.8\n",
    " 2016-01-01 00:00:00 |         2 |         2908 |  181917.45 |        49985.9\n",
    " 2016-01-01 00:00:00 |         3 |          326 |   26100.28 |         5210.2\n",
    " 2016-01-01 00:00:00 |         4 |           77 |    5233.91 |         1267.8\n",
    " 2016-01-01 00:00:00 |         5 |          704 |   42873.02 |         3950.7\n",
    " 2016-01-01 00:00:00 |         6 |            5 |     724.01 |           16.9\n",
    " 2016-01-02 00:00:00 |         1 |       128219 | 1722623.97 |       330120.6\n",
    " 2016-01-02 00:00:00 |         2 |         3358 |  211426.86 |        58474.5\n",
    " 2016-01-02 00:00:00 |         3 |          336 |   27913.19 |         5631.2\n",
    " 2016-01-02 00:00:00 |         4 |           41 |    2770.15 |          640.2\n",
    " 2016-01-02 00:00:00 |         5 |          369 |   22647.75 |         2676.2\n",
    " 2016-01-03 00:00:00 |         1 |       135955 | 1895242.50 |       383444.8\n",
    " 2016-01-03 00:00:00 |         2 |         4290 |  274111.28 |        74086.2\n",
    " 2016-01-03 00:00:00 |         3 |          371 |   30612.98 |         5930.2\n",
    " 2016-01-03 00:00:00 |         4 |           85 |    5893.71 |         1438.3\n",
    " 2016-01-03 00:00:00 |         5 |          518 |   30886.56 |         3484.6\n",
    " 2016-01-03 00:00:00 |         6 |            3 |        9.9 |            4.7\n",
    " 2016-01-04 00:00:00 |         1 |       145228 | 1956046.32 |      8995628.6\n",
    " 2016-01-04 00:00:00 |         2 |         3907 |  250243.77 |        67245.8\n",
    " 2016-01-04 00:00:00 |         3 |          265 |   21017.25 |         4024.8\n",
    " 2016-01-04 00:00:00 |         4 |           83 |    5206.30 |         1298.1"
   ]
  },
  {
   "cell_type": "markdown",
   "metadata": {},
   "source": [
    "<div style=\"font-size:20px;color:#F1F8FC;background-color:#557aba;padding:10px;\">Query 2</div>"
   ]
  },
  {
   "cell_type": "markdown",
   "metadata": {},
   "source": [
    "Find the change in the number of rides for each rate_code/hour between 2016-01-01 and 2016-01-02.\n",
    "\n",
    "For example, if there are 10 rides for rate_code <font color='blue'>99</font> between <font color='orange'>2pm</font> and 3pm on 2016-01-01 and there are 5 rides for the same time and rate_code on 2016-01-02, the result must contain <font color='orange'>2</font>, <font color='blue'>99</font>, -5.\n"
   ]
  },
  {
   "cell_type": "markdown",
   "metadata": {},
   "source": [
    "You might find the following functions useful:\n",
    "- extract(field from timestamp) extracts hour from date\n",
    "    - extract(hour from timestamp '2001-02-16 20:38:40') returns 20\n",
    "- date(datetime) extracts date from datetime\n",
    "    - date('2001-02-16 20:38:40') = '2001-02-16'"
   ]
  },
  {
   "cell_type": "raw",
   "metadata": {},
   "source": [
    "** Write your query here **\n",
    "\n",
    "select greatest (t1_date_par,t2_date_par), greatest (T1Rc,T2Rc), COALESCE( day_two, 0 ) - coalesce(day_one, 0) from\n",
    "(select table1.pd as t1_date_par,table2.pd as t2_date_par, table1.rate_code as T1Rc, table2.rate_code T2Rc, table1.day1 as day_one, table2.day2 as day_two\n",
    "From\n",
    "(SELECT  rate_code,extract(hour from time_bucket('1 hour', pickup_datetime)) as pd, count(*) as day1\n",
    "FROM rides\n",
    "WHERE date(pickup_datetime) = '2016-01-01' and rate_code = 99 \n",
    "GROUP BY pd, rate_code\n",
    "ORDER BY pd)  table1 \n",
    "\n",
    "full outer join\n",
    "\n",
    "(SELECT rate_code,extract(hour from time_bucket('1 hour', pickup_datetime)) as pd, count(*) as day2\n",
    "FROM rides\n",
    "WHERE date(pickup_datetime) = '2016-01-02' and rate_code = 99 \n",
    "GROUP BY pd, rate_code\n",
    "ORDER BY pd)  table2\n",
    "on (table1.pd = table2.pd)) t\n",
    "\n",
    "Output : \n",
    "\n",
    "\n",
    "|one_hour               |rate_code|mv                  |\n",
    "|-----------------------|---------|--------------------|\n",
    "|2016-01-01 00:00:00.000|4        |56.8571428571428571 |\n",
    "|2016-01-01 01:00:00.000|6        |655.3500000000000000|\n",
    "|2016-01-01 02:00:00.000|99       |104.5000000000000000|\n",
    "|2016-01-01 03:00:00.000|99       |225.3000000000000000|\n",
    "|2016-01-01 04:00:00.000|5        |69.8482075471698113 |\n",
    "|2016-01-01 05:00:00.000|3        |67.2000000000000000 |\n",
    "|2016-01-01 06:00:00.000|4        |91.0000000000000000 |\n",
    "|2016-01-01 07:00:00.000|4        |71.6666666666666667 |\n",
    "|2016-01-01 08:00:00.000|3        |55.5666666666666667 |\n",
    "|2016-01-01 09:00:00.000|3        |68.0769230769230769 |\n",
    "|2016-01-01 10:00:00.000|3        |59.9375000000000000 |\n",
    "|2016-01-01 11:00:00.000|4        |73.7500000000000000 |\n",
    "|2016-01-01 12:00:00.000|3        |61.4848484848484848 |\n",
    "|2016-01-01 13:00:00.000|4        |84.0000000000000000 |\n",
    "|2016-01-01 14:00:00.000|3        |66.7162162162162162 |\n",
    "|2016-01-01 15:00:00.000|3        |65.1184210526315789 |\n",
    "|2016-01-01 16:00:00.000|3        |58.0227272727272727 |\n",
    "|2016-01-01 17:00:00.000|4        |85.7000000000000000 |\n",
    "|2016-01-01 18:00:00.000|3        |64.3125000000000000 |\n",
    "|2016-01-01 19:00:00.000|2        |52.0000000000000000 |\n",
    "|2016-01-01 20:00:00.000|4        |56.0000000000000000 |\n",
    "|2016-01-01 21:00:00.000|4        |104.0000000000000000|\n",
    "|2016-01-01 22:00:00.000|4        |71.0000000000000000 |\n",
    "|2016-01-01 23:00:00.000|4        |193.0000000000000000|\n",
    "|2016-01-02 00:00:00.000|3        |137.0000000000000000|\n",
    "|2016-01-02 01:00:00.000|2        |52.0000000000000000 |\n",
    "|2016-01-02 02:00:00.000|3        |53.0500000000000000 |\n",
    "|2016-01-02 03:00:00.000|3        |67.1111111111111111 |\n",
    "|2016-01-02 04:00:00.000|3        |58.7380952380952381 |\n",
    "|2016-01-02 05:00:00.000|3        |62.9523809523809524 |\n",
    "|2016-01-02 06:00:00.000|3        |68.0000000000000000 |\n",
    "|2016-01-02 07:00:00.000|3        |67.8571428571428571 |\n",
    "|2016-01-02 08:00:00.000|3        |63.6428571428571429 |\n",
    "|2016-01-02 09:00:00.000|3        |59.6578947368421053 |\n",
    "|2016-01-02 10:00:00.000|5        |84.1561538461538462 |\n",
    "|2016-01-02 11:00:00.000|5        |65.2186666666666667 |\n",
    "|2016-01-02 12:00:00.000|4        |140.5000000000000000|\n",
    "|2016-01-02 13:00:00.000|5        |74.9066666666666667 |\n",
    "|2016-01-02 14:00:00.000|3        |65.4545454545454545 |\n",
    "|2016-01-02 15:00:00.000|5        |68.6592592592592593 |\n",
    "|2016-01-02 16:00:00.000|3        |63.5384615384615385 |\n",
    "|2016-01-02 17:00:00.000|4        |74.0000000000000000 |\n",
    "|2016-01-02 18:00:00.000|3        |70.2857142857142857 |\n",
    "|2016-01-02 19:00:00.000|3        |79.0000000000000000 |\n",
    "|2016-01-02 20:00:00.000|3        |63.0000000000000000 |\n",
    "|2016-01-02 21:00:00.000|3        |78.4375000000000000 |\n",
    "|2016-01-02 22:00:00.000|4        |140.2500000000000000|\n",
    "|2016-01-02 23:00:00.000|2        |52.0000000000000000 |\n",
    "|2016-01-03 00:00:00.000|4        |54.2944444444444444 |\n",
    "|2016-01-03 01:00:00.000|2        |52.0000000000000000 |\n",
    "|2016-01-03 02:00:00.000|4        |53.7500000000000000 |\n",
    "|2016-01-03 03:00:00.000|4        |62.8333333333333333 |\n",
    "|2016-01-03 04:00:00.000|3        |65.4666666666666667 |\n",
    "|2016-01-03 05:00:00.000|4        |133.7500000000000000|\n",
    "|2016-01-03 06:00:00.000|3        |62.4782608695652174 |\n",
    "|2016-01-03 07:00:00.000|5        |95.0000000000000000 |\n",
    "|2016-01-03 08:00:00.000|5        |72.8300000000000000 |\n",
    "|2016-01-03 09:00:00.000|3        |62.8214285714285714 |\n",
    "|2016-01-03 10:00:00.000|4        |114.2500000000000000|\n",
    "|2016-01-03 11:00:00.000|3        |62.9166666666666667 |\n",
    "|2016-01-03 12:00:00.000|3        |66.4545454545454545 |\n",
    "|2016-01-03 13:00:00.000|5        |65.0694117647058824 |\n",
    "|2016-01-03 14:00:00.000|3        |61.7575757575757576 |\n",
    "|2016-01-03 15:00:00.000|3        |66.0875000000000000 |\n",
    "|2016-01-03 16:00:00.000|3        |64.4500000000000000 |\n",
    "|2016-01-03 17:00:00.000|4        |75.0000000000000000 |\n",
    "|2016-01-03 18:00:00.000|4        |67.6666666666666667 |\n",
    "|2016-01-03 19:00:00.000|4        |77.5000000000000000 |\n",
    "|2016-01-03 20:00:00.000|4        |74.8750000000000000 |\n",
    "|2016-01-03 21:00:00.000|4        |134.5000000000000000|\n",
    "|2016-01-03 22:00:00.000|5        |56.9242857142857143 |\n",
    "|2016-01-03 23:00:00.000|3        |61.5000000000000000 |\n",
    "|2016-01-04 00:00:00.000|4        |53.1666666666666667 |\n",
    "|2016-01-04 01:00:00.000|5        |82.2091666666666667 |\n",
    "|2016-01-04 02:00:00.000|3        |65.2500000000000000 |\n",
    "|2016-01-04 03:00:00.000|3        |68.8750000000000000 |\n",
    "|2016-01-04 04:00:00.000|4        |63.2500000000000000 |\n",
    "|2016-01-04 05:00:00.000|3        |61.0769230769230769 |\n",
    "|2016-01-04 06:00:00.000|3        |62.8250000000000000 |\n",
    "|2016-01-04 07:00:00.000|4        |66.2500000000000000 |\n",
    "|2016-01-04 08:00:00.000|5        |75.5406666666666667 |\n",
    "|2016-01-04 09:00:00.000|4        |82.2500000000000000 |\n",
    "|2016-01-04 10:00:00.000|3        |59.7692307692307692 |\n",
    "|2016-01-04 11:00:00.000|3        |67.2777777777777778 |\n",
    "|2016-01-04 12:00:00.000|4        |84.2500000000000000 |\n",
    "|2016-01-04 13:00:00.000|4        |70.5000000000000000 |\n",
    "|2016-01-04 14:00:00.000|3        |57.8750000000000000 |\n",
    "|2016-01-04 15:00:00.000|4        |64.0000000000000000 |\n",
    "|2016-01-04 16:00:00.000|3        |68.0789473684210526 |\n",
    "|2016-01-04 17:00:00.000|4        |80.2500000000000000 |\n",
    "|2016-01-04 18:00:00.000|3        |59.9090909090909091 |\n",
    "|2016-01-04 19:00:00.000|4        |59.2000000000000000 |\n",
    "|2016-01-04 20:00:00.000|4        |78.0000000000000000 |\n",
    "|2016-01-04 21:00:00.000|3        |62.3571428571428571 |\n",
    "|2016-01-04 22:00:00.000|5        |56.4265217391304348 |\n",
    "|2016-01-04 23:00:00.000|4        |71.3333333333333333 |\n",
    "|2016-01-05 00:00:00.000|5        |93.5323529411764706 |\n",
    "|2016-01-05 01:00:00.000|4        |63.6666666666666667 |\n",
    "|2016-01-05 02:00:00.000|3        |55.4000000000000000 |\n",
    "|2016-01-05 03:00:00.000|5        |182.8585714285714286|\n",
    "|2016-01-05 04:00:00.000|5        |77.6262500000000000 |\n",
    "|2016-01-05 05:00:00.000|4        |63.2500000000000000 |\n",
    "|2016-01-05 06:00:00.000|3        |54.5769230769230769 |\n",
    "|2016-01-05 07:00:00.000|3        |61.5500000000000000 |\n",
    "|2016-01-05 08:00:00.000|4        |89.7500000000000000 |\n",
    "|2016-01-05 09:00:00.000|4        |189.0000000000000000|\n",
    "|2016-01-05 10:00:00.000|5        |77.7233333333333333 |\n",
    "|2016-01-05 11:00:00.000|3        |62.1071428571428571 |\n",
    "|2016-01-05 12:00:00.000|5        |77.7500000000000000 |\n",
    "|2016-01-05 13:00:00.000|4        |95.0000000000000000 |\n",
    "|2016-01-05 14:00:00.000|99       |65.0000000000000000 |\n",
    "|2016-01-05 15:00:00.000|3        |63.1718750000000000 |\n",
    "|2016-01-05 16:00:00.000|4        |65.1250000000000000 |\n",
    "|2016-01-05 17:00:00.000|99       |66.3400000000000000 |\n",
    "|2016-01-05 18:00:00.000|4        |77.5000000000000000 |\n",
    "|2016-01-05 19:00:00.000|4        |104.5000000000000000|\n",
    "|2016-01-05 20:00:00.000|3        |87.4000000000000000 |\n",
    "|2016-01-05 21:00:00.000|4        |60.4487500000000000 |\n",
    "|2016-01-05 22:00:00.000|5        |122.8527777777777778|\n",
    "|2016-01-05 23:00:00.000|4        |73.1250000000000000 |\n",
    "|2016-01-06 00:00:00.000|5        |63.6217391304347826 |\n",
    "|2016-01-06 01:00:00.000|5        |83.4592857142857143 |\n",
    "|2016-01-06 02:00:00.000|3        |57.0000000000000000 |\n",
    "|2016-01-06 03:00:00.000|5        |77.3466666666666667 |\n",
    "|2016-01-06 04:00:00.000|3        |55.5000000000000000 |\n",
    "|2016-01-06 05:00:00.000|3        |55.2222222222222222 |\n",
    "|2016-01-06 06:00:00.000|3        |62.3000000000000000 |\n",
    "|2016-01-06 07:00:00.000|4        |113.0000000000000000|\n",
    "|2016-01-06 08:00:00.000|2        |52.0000000000000000 |\n",
    "|2016-01-06 09:00:00.000|3        |67.5555555555555556 |\n",
    "|2016-01-06 10:00:00.000|3        |57.8571428571428571 |\n",
    "|2016-01-06 11:00:00.000|4        |118.0000000000000000|\n",
    "|2016-01-06 12:00:00.000|4        |57.6666666666666667 |\n",
    "|2016-01-06 13:00:00.000|4        |89.7500000000000000 |\n",
    "|2016-01-06 14:00:00.000|4        |73.0000000000000000 |\n",
    "|2016-01-06 15:00:00.000|3        |66.0000000000000000 |\n",
    "|2016-01-06 16:00:00.000|5        |70.0769230769230769 |\n",
    "|2016-01-06 17:00:00.000|3        |54.3125000000000000 |\n",
    "|2016-01-06 18:00:00.000|4        |77.6666666666666667 |\n",
    "|2016-01-06 19:00:00.000|4        |85.7500000000000000 |\n",
    "|2016-01-06 20:00:00.000|3        |75.5000000000000000 |\n",
    "|2016-01-06 21:00:00.000|4        |76.1250000000000000 |\n",
    "|2016-01-06 22:00:00.000|5        |62.1535000000000000 |\n",
    "|2016-01-06 23:00:00.000|4        |52.1250000000000000 |\n",
    "|2016-01-07 00:00:00.000|3        |70.0000000000000000 |\n",
    "|2016-01-07 01:00:00.000|2        |52.0000000000000000 |\n",
    "|2016-01-07 02:00:00.000|3        |59.1000000000000000 |\n",
    "|2016-01-07 03:00:00.000|5        |62.8269230769230769 |\n",
    "|2016-01-07 04:00:00.000|3        |66.1000000000000000 |\n",
    "|2016-01-07 05:00:00.000|4        |69.0000000000000000 |\n",
    "|2016-01-07 06:00:00.000|4        |79.2500000000000000 |\n",
    "|2016-01-07 07:00:00.000|5        |66.6150000000000000 |\n",
    "|2016-01-07 08:00:00.000|4        |671.5000000000000000|\n",
    "|2016-01-07 09:00:00.000|4        |82.5000000000000000 |\n",
    "|2016-01-07 10:00:00.000|3        |76.3333333333333333 |\n",
    "|2016-01-07 11:00:00.000|3        |69.6470588235294118 |\n",
    "|2016-01-07 12:00:00.000|3        |65.5277777777777778 |\n",
    "|2016-01-07 13:00:00.000|4        |70.3571428571428571 |\n",
    "|2016-01-07 14:00:00.000|3        |64.3518518518518519 |\n",
    "|2016-01-07 15:00:00.000|3        |69.7045454545454545 |\n",
    "|2016-01-07 16:00:00.000|4        |65.9285714285714286 |\n",
    "|2016-01-07 17:00:00.000|3        |65.8636363636363636 |\n",
    "|2016-01-07 18:00:00.000|3        |65.9000000000000000 |\n",
    "|2016-01-07 19:00:00.000|4        |75.0000000000000000 |\n",
    "|2016-01-07 20:00:00.000|2        |52.0000000000000000 |\n",
    "|2016-01-07 21:00:00.000|3        |70.5000000000000000 |\n",
    "|2016-01-07 21:00:00.000|5        |70.5000000000000000 |\n",
    "|2016-01-08 00:00:00.000|1        |8.2500000000000000  |\n",
    "|2016-01-08 01:00:00.000|1        |10.0000000000000000 |\n",
    "|2016-01-08 10:00:00.000|1        |6.2500000000000000  |\n",
    "|2016-01-08 15:00:00.000|1        |4.6666666666666667  |\n",
    "|2016-01-08 16:00:00.000|1        |7.5000000000000000  |\n",
    "|2016-01-29 09:00:00.000|3        |126.0000000000000000|\n",
    "|2016-01-29 11:00:00.000|5        |82.2700000000000000 |\n",
    "|2016-01-29 12:00:00.000|3        |71.8333333333333333 |\n",
    "\n",
    "\n"
   ]
  },
  {
   "cell_type": "markdown",
   "metadata": {},
   "source": [
    "<div style=\"font-size:20px;color:#F1F8FC;background-color:#557aba;padding:10px;\">Query 3</div>"
   ]
  },
  {
   "cell_type": "markdown",
   "metadata": {},
   "source": [
    "Write a query to find the most expensive <i>rate_code (i.e., the highest avg(fare_amount))</i> for each hour of the day on 2016-01-01. The result should contain the date and hour (e.g., 2016-01-01 01:00:00), rate_code, and the average fare for that rate_code. Please note that <b>only</b> the most expensive rate code for each hour must be included in the result. For example, if rate_code 1 is the most expensive between 1pm and 2pm, other rate_codes must not appear in the result for 1-2pm."
   ]
  },
  {
   "cell_type": "raw",
   "metadata": {},
   "source": [
    "** Write your query here **\n",
    "\n",
    "\n",
    "SELECT table1.one_hour, table1.rate_code, table2.mv from\n",
    "\n",
    "(SELECT time_bucket('1 hour', pickup_datetime) as one_hour , rate_code,  avg(fare_amount) as av\n",
    "\n",
    "FROM rides\n",
    "\n",
    "GROUP BY one_hour, rate_code\n",
    "\n",
    "ORDER BY one_hour)  table1\n",
    "\n",
    "right join\n",
    "\n",
    "(select max(av) as mv, one_hour\n",
    "\n",
    "from\n",
    "\n",
    "(SELECT time_bucket('1 hour', pickup_datetime) as one_hour , rate_code, avg(fare_amount) as av\n",
    "\n",
    "FROM rides\n",
    "\n",
    "GROUP BY one_hour, rate_code\n",
    "\n",
    "ORDER BY one_hour) t\n",
    "\n",
    "group by one_hour\n",
    "\n",
    "order by one_hour) table2\n",
    "\n",
    "on (table1.one_hour=table2.one_hour) and (table1.av=table2.mv);\n",
    "\n",
    "\n",
    "Output : \n",
    "\n",
    "\n",
    "\n",
    "|day                    |rate_code|count |total_fare|total_distance|\n",
    "|-----------------------|---------|------|----------|--------------|\n",
    "|2016-01-01 00:00:00.000|1        |146749|2091570.18|424881.8      |\n",
    "|2016-01-01 00:00:00.000|2        |2908  |181917.45 |49985.9       |\n",
    "|2016-01-01 00:00:00.000|3        |326   |26100.28  |5210.2        |\n",
    "|2016-01-01 00:00:00.000|4        |77    |5233.91   |1267.8        |\n",
    "|2016-01-01 00:00:00.000|5        |704   |42873.02  |3950.7        |\n",
    "|2016-01-01 00:00:00.000|6        |5     |724.01    |16.9          |\n",
    "|2016-01-02 00:00:00.000|1        |128219|1722623.97|330120.6      |\n",
    "|2016-01-02 00:00:00.000|2        |3358  |211426.86 |58474.5       |\n",
    "|2016-01-02 00:00:00.000|3        |336   |27913.19  |5631.2        |\n",
    "|2016-01-02 00:00:00.000|4        |41    |2770.15   |640.2         |\n",
    "|2016-01-02 00:00:00.000|5        |369   |22647.75  |2676.2        |\n",
    "|2016-01-03 00:00:00.000|1        |135955|1895242.50|383444.8      |\n",
    "|2016-01-03 00:00:00.000|2        |4290  |274111.28 |74086.2       |\n",
    "|2016-01-03 00:00:00.000|3        |371   |30612.98  |5930.2        |\n",
    "|2016-01-03 00:00:00.000|4        |85    |5893.71   |1438.3        |\n",
    "|2016-01-03 00:00:00.000|5        |518   |30886.56  |3484.6        |\n",
    "|2016-01-03 00:00:00.000|6        |3     |9.9       |4.7           |\n",
    "|2016-01-04 00:00:00.000|1        |145228|1956046.32|8995628.6     |\n",
    "|2016-01-04 00:00:00.000|2        |3907  |250243.77 |67245.8       |\n",
    "|2016-01-04 00:00:00.000|3        |265   |21017.25  |4024.8        |\n",
    "|2016-01-04 00:00:00.000|4        |83    |5206.30   |1298.1        |\n",
    "|2016-01-04 00:00:00.000|5        |426   |25430.20  |2938.2        |\n",
    "|2016-01-04 00:00:00.000|6        |3     |10.9      |0.5           |\n",
    "|2016-01-05 00:00:00.000|1        |157397|2140732.54|2062761.2     |\n",
    "|2016-01-05 00:00:00.000|2        |3175  |202370.14 |55005.5       |\n",
    "|2016-01-05 00:00:00.000|3        |223   |18130.47  |3382.5        |\n",
    "|2016-01-05 00:00:00.000|4        |79    |5709.38   |1343.0        |\n",
    "|2016-01-05 00:00:00.000|5        |418   |29687.73  |2961.7        |\n",
    "|2016-01-05 00:00:00.000|6        |2     |6.6       |0             |\n",
    "|2016-01-06 00:00:00.000|1        |160025|2204714.69|386788.6      |\n",
    "|2016-01-06 00:00:00.000|2        |2973  |189822.74 |51232.3       |\n",
    "|2016-01-06 00:00:00.000|3        |210   |17290.15  |3087.4        |\n",
    "|2016-01-06 00:00:00.000|4        |57    |3889.73   |976.5         |\n",
    "|2016-01-06 00:00:00.000|5        |446   |24808.84  |2670.3        |\n",
    "|2016-01-06 00:00:00.000|6        |2     |9.6       |0             |\n",
    "|2016-01-07 00:00:00.000|1        |141004|1949880.87|333106.7      |\n",
    "|2016-01-07 00:00:00.000|2        |2487  |159006.63 |42863.8       |\n",
    "|2016-01-07 00:00:00.000|3        |224   |18731.47  |3550.9        |\n",
    "|2016-01-07 00:00:00.000|4        |47    |3822.98   |827.4         |\n",
    "|2016-01-07 00:00:00.000|5        |327   |19992.23  |1964.9        |\n",
    "|2016-01-08 00:00:00.000|1        |9     |89.10     |10.6          |\n",
    "|2016-01-29 00:00:00.000|1        |5105  |75174.46  |11487.5       |\n",
    "|2016-01-29 00:00:00.000|2        |84    |5362.03   |1479.9        |\n",
    "|2016-01-29 00:00:00.000|3        |10    |974.14    |201.3         |\n",
    "|2016-01-29 00:00:00.000|4        |1     |44.8      |8.8           |\n",
    "|2016-01-29 00:00:00.000|5        |7     |650.89    |97.6          |\n",
    "\n",
    "\n"
   ]
  },
  {
   "cell_type": "markdown",
   "metadata": {},
   "source": [
    "<hr style=\"border-top: 5px solid purple; margin-top: 1px; margin-bottom: 1px\"></hr>"
   ]
  },
  {
   "cell_type": "markdown",
   "metadata": {},
   "source": [
    "<br>\n",
    "\n",
    "# <span style=\"color:#3665af\">SECTION 2: Big Graph Processing with GraphLab </span>\n",
    "<hr>\n",
    "\n",
    "###### Goal\n",
    "In this assignment, we will learn how to work with a graph-based distributed computation framework to read graph data and calculate graph properties including triangle counts connected components and PageRank.\n",
    "\n"
   ]
  },
  {
   "cell_type": "code",
   "execution_count": 1,
   "metadata": {},
   "outputs": [
    {
     "name": "stdout",
     "output_type": "stream",
     "text": [
      "Collecting turicreate\n",
      "  Downloading turicreate-6.4.1-cp37-cp37m-manylinux1_x86_64.whl (92.0 MB)\n",
      "\u001b[K     |████████████████████████████████| 92.0 MB 7.5 kB/s  eta 0:00:01\n",
      "\u001b[?25hCollecting prettytable==0.7.2\n",
      "  Downloading prettytable-0.7.2.tar.bz2 (21 kB)\n",
      "Requirement already satisfied: six>=1.10.0 in /opt/conda/lib/python3.7/site-packages (from turicreate) (1.14.0)\n",
      "Collecting numba<0.51.0\n",
      "  Downloading numba-0.50.1-cp37-cp37m-manylinux2014_x86_64.whl (3.6 MB)\n",
      "\u001b[K     |████████████████████████████████| 3.6 MB 99.0 MB/s eta 0:00:01\n",
      "\u001b[?25hCollecting coremltools==3.3\n",
      "  Downloading coremltools-3.3-cp37-none-manylinux1_x86_64.whl (3.5 MB)\n",
      "\u001b[K     |████████████████████████████████| 3.5 MB 68.9 MB/s eta 0:00:01\n",
      "\u001b[?25hRequirement already satisfied: pillow>=5.2.0 in /opt/conda/lib/python3.7/site-packages (from turicreate) (7.2.0)\n",
      "Requirement already satisfied: scipy>=1.1.0 in /opt/conda/lib/python3.7/site-packages (from turicreate) (1.5.2)\n",
      "Collecting tensorflow<2.1.0,>=2.0.0\n",
      "  Downloading tensorflow-2.0.4-cp37-cp37m-manylinux2010_x86_64.whl (86.4 MB)\n",
      "\u001b[K     |████████████████████████████████| 86.4 MB 30 kB/s /s eta 0:00:01\n",
      "\u001b[?25hRequirement already satisfied: pandas>=0.23.2 in /opt/conda/lib/python3.7/site-packages (from turicreate) (1.1.2)\n",
      "Collecting resampy==0.2.1\n",
      "  Downloading resampy-0.2.1.tar.gz (322 kB)\n",
      "\u001b[K     |████████████████████████████████| 322 kB 26.3 MB/s eta 0:00:01\n",
      "\u001b[?25hRequirement already satisfied: decorator>=4.0.9 in /opt/conda/lib/python3.7/site-packages (from turicreate) (4.4.2)\n",
      "Requirement already satisfied: numpy in /opt/conda/lib/python3.7/site-packages (from turicreate) (1.19.2)\n",
      "Requirement already satisfied: requests>=2.9.1 in /opt/conda/lib/python3.7/site-packages (from turicreate) (2.22.0)\n",
      "Collecting llvmlite<0.34,>=0.33.0.dev0\n",
      "  Downloading llvmlite-0.33.0-cp37-cp37m-manylinux1_x86_64.whl (18.3 MB)\n",
      "\u001b[K     |████████████████████████████████| 18.3 MB 1.1 MB/s eta 0:00:01\n",
      "\u001b[?25hRequirement already satisfied: setuptools in /opt/conda/lib/python3.7/site-packages (from numba<0.51.0->turicreate) (46.1.3.post20200325)\n",
      "Collecting protobuf>=3.1.0\n",
      "  Downloading protobuf-3.19.1-cp37-cp37m-manylinux_2_17_x86_64.manylinux2014_x86_64.whl (1.1 MB)\n",
      "\u001b[K     |████████████████████████████████| 1.1 MB 89.1 MB/s eta 0:00:01\n",
      "\u001b[?25hCollecting astor>=0.6.0\n",
      "  Downloading astor-0.8.1-py2.py3-none-any.whl (27 kB)\n",
      "Collecting opt-einsum>=2.3.2\n",
      "  Downloading opt_einsum-3.3.0-py3-none-any.whl (65 kB)\n",
      "\u001b[K     |████████████████████████████████| 65 kB 274 kB/s  eta 0:00:01\n",
      "\u001b[?25hCollecting tensorflow-estimator<2.1.0,>=2.0.0\n",
      "  Downloading tensorflow_estimator-2.0.1-py2.py3-none-any.whl (449 kB)\n",
      "\u001b[K     |████████████████████████████████| 449 kB 83.3 MB/s eta 0:00:01\n",
      "\u001b[?25hCollecting grpcio>=1.8.6\n",
      "  Downloading grpcio-1.42.0-cp37-cp37m-manylinux_2_17_x86_64.manylinux2014_x86_64.whl (4.0 MB)\n",
      "\u001b[K     |████████████████████████████████| 4.0 MB 90.7 MB/s eta 0:00:01\n",
      "\u001b[?25hCollecting keras-preprocessing>=1.0.5\n",
      "  Downloading Keras_Preprocessing-1.1.2-py2.py3-none-any.whl (42 kB)\n",
      "\u001b[K     |████████████████████████████████| 42 kB 158 kB/s  eta 0:00:01\n",
      "\u001b[?25hCollecting tensorboard<2.1.0,>=2.0.0\n",
      "  Downloading tensorboard-2.0.2-py3-none-any.whl (3.8 MB)\n",
      "\u001b[K     |████████████████████████████████| 3.8 MB 77.6 MB/s eta 0:00:01\n",
      "\u001b[?25hCollecting h5py<=2.10.0\n",
      "  Downloading h5py-2.10.0-cp37-cp37m-manylinux1_x86_64.whl (2.9 MB)\n",
      "\u001b[K     |████████████████████████████████| 2.9 MB 79.5 MB/s eta 0:00:01\n",
      "\u001b[?25hCollecting absl-py>=0.7.0\n",
      "  Downloading absl_py-1.0.0-py3-none-any.whl (126 kB)\n",
      "\u001b[K     |████████████████████████████████| 126 kB 98.3 MB/s eta 0:00:01\n",
      "\u001b[?25hCollecting google-pasta>=0.1.6\n",
      "  Downloading google_pasta-0.2.0-py3-none-any.whl (57 kB)\n",
      "\u001b[K     |████████████████████████████████| 57 kB 525 kB/s  eta 0:00:01\n",
      "\u001b[?25hCollecting wrapt>=1.11.1\n",
      "  Downloading wrapt-1.13.3-cp37-cp37m-manylinux_2_5_x86_64.manylinux1_x86_64.manylinux_2_12_x86_64.manylinux2010_x86_64.whl (79 kB)\n",
      "\u001b[K     |████████████████████████████████| 79 kB 841 kB/s  eta 0:00:01\n",
      "\u001b[?25hCollecting termcolor>=1.1.0\n",
      "  Downloading termcolor-1.1.0.tar.gz (3.9 kB)\n",
      "Requirement already satisfied: wheel>=0.26; python_version >= \"3\" in /opt/conda/lib/python3.7/site-packages (from tensorflow<2.1.0,>=2.0.0->turicreate) (0.34.2)\n",
      "Collecting gast==0.2.2\n",
      "  Downloading gast-0.2.2.tar.gz (10 kB)\n",
      "Collecting keras-applications>=1.0.8\n",
      "  Downloading Keras_Applications-1.0.8-py3-none-any.whl (50 kB)\n",
      "\u001b[K     |████████████████████████████████| 50 kB 731 kB/s  eta 0:00:01\n",
      "\u001b[?25hRequirement already satisfied: pytz>=2017.2 in /opt/conda/lib/python3.7/site-packages (from pandas>=0.23.2->turicreate) (2020.1)\n",
      "Requirement already satisfied: python-dateutil>=2.7.3 in /opt/conda/lib/python3.7/site-packages (from pandas>=0.23.2->turicreate) (2.8.1)\n",
      "Requirement already satisfied: chardet<3.1.0,>=3.0.2 in /opt/conda/lib/python3.7/site-packages (from requests>=2.9.1->turicreate) (3.0.4)\n",
      "Requirement already satisfied: urllib3!=1.25.0,!=1.25.1,<1.26,>=1.21.1 in /opt/conda/lib/python3.7/site-packages (from requests>=2.9.1->turicreate) (1.25.7)\n",
      "Requirement already satisfied: idna<2.9,>=2.5 in /opt/conda/lib/python3.7/site-packages (from requests>=2.9.1->turicreate) (2.8)\n",
      "Requirement already satisfied: certifi>=2017.4.17 in /opt/conda/lib/python3.7/site-packages (from requests>=2.9.1->turicreate) (2019.11.28)\n",
      "Collecting markdown>=2.6.8\n",
      "  Downloading Markdown-3.3.6-py3-none-any.whl (97 kB)\n",
      "\u001b[K     |████████████████████████████████| 97 kB 767 kB/s s eta 0:00:01\n",
      "\u001b[?25hCollecting google-auth-oauthlib<0.5,>=0.4.1\n",
      "  Using cached google_auth_oauthlib-0.4.6-py2.py3-none-any.whl (18 kB)\n",
      "Collecting werkzeug>=0.11.15\n",
      "  Downloading Werkzeug-2.0.2-py3-none-any.whl (288 kB)\n",
      "\u001b[K     |████████████████████████████████| 288 kB 85.2 MB/s eta 0:00:01\n",
      "\u001b[?25hCollecting google-auth<2,>=1.6.3\n",
      "  Downloading google_auth-1.35.0-py2.py3-none-any.whl (152 kB)\n",
      "\u001b[K     |████████████████████████████████| 152 kB 87.5 MB/s eta 0:00:01\n",
      "\u001b[?25hCollecting importlib-metadata>=4.4; python_version < \"3.10\"\n",
      "  Downloading importlib_metadata-4.8.2-py3-none-any.whl (17 kB)\n",
      "Collecting requests-oauthlib>=0.7.0\n",
      "  Using cached requests_oauthlib-1.3.0-py2.py3-none-any.whl (23 kB)\n",
      "Collecting rsa<5,>=3.1.4; python_version >= \"3.6\"\n",
      "  Downloading rsa-4.8-py3-none-any.whl (39 kB)\n",
      "Collecting cachetools<5.0,>=2.0.0\n",
      "  Using cached cachetools-4.2.4-py3-none-any.whl (10 kB)\n",
      "Collecting pyasn1-modules>=0.2.1\n",
      "  Using cached pyasn1_modules-0.2.8-py2.py3-none-any.whl (155 kB)\n",
      "Requirement already satisfied: typing-extensions>=3.6.4; python_version < \"3.8\" in /opt/conda/lib/python3.7/site-packages (from importlib-metadata>=4.4; python_version < \"3.10\"->markdown>=2.6.8->tensorboard<2.1.0,>=2.0.0->tensorflow<2.1.0,>=2.0.0->turicreate) (3.7.4.3)\n",
      "Requirement already satisfied: zipp>=0.5 in /opt/conda/lib/python3.7/site-packages (from importlib-metadata>=4.4; python_version < \"3.10\"->markdown>=2.6.8->tensorboard<2.1.0,>=2.0.0->tensorflow<2.1.0,>=2.0.0->turicreate) (3.1.0)\n",
      "Requirement already satisfied: oauthlib>=3.0.0 in /opt/conda/lib/python3.7/site-packages (from requests-oauthlib>=0.7.0->google-auth-oauthlib<0.5,>=0.4.1->tensorboard<2.1.0,>=2.0.0->tensorflow<2.1.0,>=2.0.0->turicreate) (3.0.1)\n",
      "Collecting pyasn1>=0.1.3\n",
      "  Using cached pyasn1-0.4.8-py2.py3-none-any.whl (77 kB)\n",
      "Building wheels for collected packages: prettytable, resampy, termcolor, gast\n",
      "  Building wheel for prettytable (setup.py) ... \u001b[?25ldone\n",
      "\u001b[?25h  Created wheel for prettytable: filename=prettytable-0.7.2-py3-none-any.whl size=13698 sha256=eaa8fd90e419d97583782246e614be0606bb8089c74559003869d59ecbcd9adf\n",
      "  Stored in directory: /home/jovyan/.cache/pip/wheels/8c/76/0b/eb9eb3da7e2335e3577e3f96a0ae9f74f206e26457bd1a2bc8\n",
      "  Building wheel for resampy (setup.py) ... \u001b[?25ldone\n",
      "\u001b[?25h  Created wheel for resampy: filename=resampy-0.2.1-py3-none-any.whl size=320848 sha256=c5cc913c476c9e3a8cfce94fe0714c0f7a86ed57d52625343281ebcfea4bd4e7\n",
      "  Stored in directory: /home/jovyan/.cache/pip/wheels/71/74/53/d5ceb7c5ee7a168c7d106041863e71ac3273f4a4677743a284\n",
      "  Building wheel for termcolor (setup.py) ... \u001b[?25ldone\n",
      "\u001b[?25h  Created wheel for termcolor: filename=termcolor-1.1.0-py3-none-any.whl size=4830 sha256=c82ee645fac5388a44b891344e580711db08c021a659dc8d9995f8ab31ecb108\n",
      "  Stored in directory: /home/jovyan/.cache/pip/wheels/3f/e3/ec/8a8336ff196023622fbcb36de0c5a5c218cbb24111d1d4c7f2\n",
      "  Building wheel for gast (setup.py) ... \u001b[?25ldone\n",
      "\u001b[?25h  Created wheel for gast: filename=gast-0.2.2-py3-none-any.whl size=7539 sha256=7b652fd5b12cd36adf47d9563e55d41051066f3ea3c4fe7e27328222c81cf168\n",
      "  Stored in directory: /home/jovyan/.cache/pip/wheels/21/7f/02/420f32a803f7d0967b48dd823da3f558c5166991bfd204eef3\n",
      "Successfully built prettytable resampy termcolor gast\n",
      "\u001b[31mERROR: tensorflow 2.0.4 has requirement numpy<1.19.0,>=1.16.0, but you'll have numpy 1.19.2 which is incompatible.\u001b[0m\n",
      "Installing collected packages: prettytable, llvmlite, numba, protobuf, coremltools, astor, opt-einsum, tensorflow-estimator, grpcio, keras-preprocessing, absl-py, importlib-metadata, markdown, requests-oauthlib, pyasn1, rsa, cachetools, pyasn1-modules, google-auth, google-auth-oauthlib, werkzeug, tensorboard, h5py, google-pasta, wrapt, termcolor, gast, keras-applications, tensorflow, resampy, turicreate\n",
      "  Attempting uninstall: importlib-metadata\n",
      "    Found existing installation: importlib-metadata 1.6.0\n",
      "    Uninstalling importlib-metadata-1.6.0:\n",
      "      Successfully uninstalled importlib-metadata-1.6.0\n",
      "Successfully installed absl-py-1.0.0 astor-0.8.1 cachetools-4.2.4 coremltools-3.3 gast-0.2.2 google-auth-1.35.0 google-auth-oauthlib-0.4.6 google-pasta-0.2.0 grpcio-1.42.0 h5py-2.10.0 importlib-metadata-4.8.2 keras-applications-1.0.8 keras-preprocessing-1.1.2 llvmlite-0.33.0 markdown-3.3.6 numba-0.50.1 opt-einsum-3.3.0 prettytable-0.7.2 protobuf-3.19.1 pyasn1-0.4.8 pyasn1-modules-0.2.8 requests-oauthlib-1.3.0 resampy-0.2.1 rsa-4.8 tensorboard-2.0.2 tensorflow-2.0.4 tensorflow-estimator-2.0.1 termcolor-1.1.0 turicreate-6.4.1 werkzeug-2.0.2 wrapt-1.13.3\n"
     ]
    }
   ],
   "source": [
    "#Please run this command to install turicreate\n",
    "!pip install turicreate"
   ]
  },
  {
   "cell_type": "code",
   "execution_count": 2,
   "metadata": {},
   "outputs": [],
   "source": [
    "import turicreate"
   ]
  },
  {
   "cell_type": "markdown",
   "metadata": {},
   "source": [
    "To facilitate graph-oriented data analysis, GraphLab offers an SGraph object, a scalable graph data structure backed by SFrames (https://turi.com/products/create/docs/generated/graphlab.SGraph.html).\n",
    "You will need to briefly read through https://apple.github.io/turicreate/docs/api/ to apply different functions for Section2\n",
    "\n"
   ]
  },
  {
   "cell_type": "markdown",
   "metadata": {},
   "source": [
    "First we create a graph. We can start with empty graph, then add vertices and edges in the form of lists of GraphLab."
   ]
  },
  {
   "cell_type": "code",
   "execution_count": 3,
   "metadata": {},
   "outputs": [
    {
     "name": "stdout",
     "output_type": "stream",
     "text": [
      "SGraph({'num_edges': 1, 'num_vertices': 3})\n"
     ]
    }
   ],
   "source": [
    "from turicreate import SGraph, Vertex, Edge\n",
    "g = SGraph()\n",
    "verts = [Vertex(0, attr={'breed': 'labrador'}),\n",
    "         Vertex(1, attr={'breed': 'Siberian Husky'}),\n",
    "         Vertex(2, attr={'breed': 'vizsla'})]\n",
    "g = g.add_vertices(verts)\n",
    "g = g.add_edges(Edge(1, 2))\n",
    "print(g)"
   ]
  },
  {
   "cell_type": "code",
   "execution_count": 4,
   "metadata": {},
   "outputs": [
    {
     "name": "stdout",
     "output_type": "stream",
     "text": [
      "{'num_edges': 1, 'num_vertices': 3}\n"
     ]
    }
   ],
   "source": [
    "#Inspecting SGraphs\n",
    "print(g.summary())"
   ]
  },
  {
   "cell_type": "markdown",
   "metadata": {},
   "source": [
    "Another way to create a graph is from an edge list stored in an SFrame\n",
    "https://apple.github.io/turicreate/docs/api/generated/turicreate.SFrame.html?highlight=sframe"
   ]
  },
  {
   "cell_type": "code",
   "execution_count": 8,
   "metadata": {},
   "outputs": [
    {
     "data": {
      "text/html": [
       "<pre>Finished parsing file /home/jovyan/bigdata/Assignment7/data/star-wars-network-edges.csv</pre>"
      ],
      "text/plain": [
       "Finished parsing file /home/jovyan/bigdata/Assignment7/data/star-wars-network-edges.csv"
      ]
     },
     "metadata": {},
     "output_type": "display_data"
    },
    {
     "name": "stdout",
     "output_type": "stream",
     "text": [
      "------------------------------------------------------"
     ]
    },
    {
     "data": {
      "text/html": [
       "<pre>Parsing completed. Parsed 60 lines in 0.036113 secs.</pre>"
      ],
      "text/plain": [
       "Parsing completed. Parsed 60 lines in 0.036113 secs."
      ]
     },
     "metadata": {},
     "output_type": "display_data"
    },
    {
     "name": "stdout",
     "output_type": "stream",
     "text": [
      "\n",
      "Inferred types from first 100 line(s) of file as \n",
      "column_type_hints=[str,str,int]\n",
      "If parsing fails due to incorrect types, you can correct\n",
      "the inferred type list above and pass it to read_csv in\n",
      "the column_type_hints argument\n",
      "------------------------------------------------------\n"
     ]
    },
    {
     "data": {
      "text/html": [
       "<pre>Finished parsing file /home/jovyan/bigdata/Assignment7/data/star-wars-network-edges.csv</pre>"
      ],
      "text/plain": [
       "Finished parsing file /home/jovyan/bigdata/Assignment7/data/star-wars-network-edges.csv"
      ]
     },
     "metadata": {},
     "output_type": "display_data"
    },
    {
     "data": {
      "text/html": [
       "<pre>Parsing completed. Parsed 60 lines in 0.003881 secs.</pre>"
      ],
      "text/plain": [
       "Parsing completed. Parsed 60 lines in 0.003881 secs."
      ]
     },
     "metadata": {},
     "output_type": "display_data"
    },
    {
     "name": "stdout",
     "output_type": "stream",
     "text": [
      "SGraph({'num_edges': 60, 'num_vertices': 21})\n"
     ]
    }
   ],
   "source": [
    "from turicreate import SFrame\n",
    "edge_data = SFrame.read_csv('/home/jovyan/bigdata/Assignment7/data/star-wars-network-edges.csv')\n",
    "\n",
    "g = SGraph()\n",
    "g = g.add_edges(edge_data, src_field='source', dst_field='target')\n",
    "print(g)"
   ]
  },
  {
   "cell_type": "markdown",
   "metadata": {},
   "source": [
    "Here we show how to save the SGraph in binary format to a new folder called \"star-wars-network-edges\" and re-load it with a different name:"
   ]
  },
  {
   "cell_type": "code",
   "execution_count": 14,
   "metadata": {},
   "outputs": [],
   "source": [
    "import turicreate as gl\n",
    "g.save('star-wars-network-edges')\n",
    "new_graph = gl.load_sgraph('star-wars-network-edges')"
   ]
  },
  {
   "cell_type": "markdown",
   "metadata": {},
   "source": [
    "***\n",
    "<div style=\"width:100%;\">\n",
    "    <div style=\"width:15%;float:left;font-size:20px;background-color:#557aba;color:#eff3f9;padding:6px;font-wight:bold;text-align:center;\">\n",
    "    Question 1\n",
    "    </div>\n",
    "    <div style=\"width:85%;float:right;font-size:16px;background-color:#dce4f2;font-wight:normal;color:black;padding:6px;\">\n",
    "    How many vertices and edges are in the graph? \n",
    "    </div>\n",
    "</div>"
   ]
  },
  {
   "cell_type": "raw",
   "metadata": {},
   "source": [
    "## Place your answer Here\n",
    "\n",
    "<SGraph({'num_edges': 60, 'num_vertices': 21})>\n",
    "\n",
    "Total Number of Vertices in the graph are : 21 Vertices\n",
    "Total Number of Edges in the graph are : 60 Edges\n"
   ]
  },
  {
   "cell_type": "markdown",
   "metadata": {},
   "source": [
    "<div style=\"width:100%;\">\n",
    "    <div style=\"width:15%;float:left;font-size:20px;background-color:#557aba;color:#eff3f9;padding:6px;font-wight:bold;text-align:center;\">\n",
    "    Question 2\n",
    "    </div>\n",
    "    <div style=\"width:85%;float:right;font-size:16px;background-color:#dce4f2;font-wight:normal;color:black;padding:6px;\">\n",
    "    Which vertex has the highest degree? (highest number of edges).\n",
    "    </div>\n",
    "</div>"
   ]
  },
  {
   "cell_type": "raw",
   "metadata": {},
   "source": [
    "## Place your answer Here\n",
    "\n",
    "Luke has highest degree \n",
    "\n",
    "__id\ttotal_degree\n",
    "LUKE\t15"
   ]
  },
  {
   "cell_type": "markdown",
   "metadata": {},
   "source": [
    "***\n",
    "For big graphs, we can print summary of statistics:"
   ]
  },
  {
   "cell_type": "code",
   "execution_count": 25,
   "metadata": {},
   "outputs": [
    {
     "name": "stdout",
     "output_type": "stream",
     "text": [
      "Class                                    : DegreeCountingModel\n",
      "\n",
      "Graph\n",
      "-----\n",
      "num_edges                                : 367662\n",
      "num_vertices                             : 36692\n",
      "\n",
      "Results\n",
      "-------\n",
      "graph                                    : SGraph. See m['graph']\n",
      "\n",
      "Metrics\n",
      "-------\n",
      "training time (secs)                     : 0.3003\n",
      "\n",
      "Queryable Fields\n",
      "----------------\n",
      "component_id                             : An SFrame with each vertex's component id\n",
      "component_size                           : An SFrame with the size of each component\n",
      "graph                                    : A new SGraph with the color id as a vertex property\n",
      "training_time                            : Total training time of the model\n",
      "\n"
     ]
    }
   ],
   "source": [
    "deg.summary()"
   ]
  },
  {
   "cell_type": "code",
   "execution_count": null,
   "metadata": {},
   "outputs": [],
   "source": [
    "## Place your answer Here\n",
    "\n",
    "Class                                    : DegreeCountingModel\n",
    "\n",
    "Graph\n",
    "-----\n",
    "num_edges                                : 367662\n",
    "num_vertices                             : 36692\n",
    "\n",
    "Results\n",
    "-------\n",
    "graph                                    : SGraph. See m['graph']\n",
    "\n",
    "Metrics\n",
    "-------\n",
    "training time (secs)                     : 0.3003\n",
    "\n",
    "Queryable Fields\n",
    "----------------\n",
    "component_id                             : An SFrame with each vertex's component id\n",
    "component_size                           : An SFrame with the size of each component\n",
    "graph                                    : A new SGraph with the color id as a vertex property\n",
    "training_time                            : Total training time of the model\n"
   ]
  },
  {
   "cell_type": "markdown",
   "metadata": {},
   "source": [
    "# Load graph data : Enron email network (edge indicated that email was exchanged, undirected edges)"
   ]
  },
  {
   "cell_type": "code",
   "execution_count": 10,
   "metadata": {},
   "outputs": [
    {
     "data": {
      "text/html": [
       "<pre>Downloading http://snap.stanford.edu/data/email-Enron.txt.gz to /var/tmp/turicreate-jovyan/186/8b682e9c-aa69-4fba-b505-bd494c7d6c2f.gz</pre>"
      ],
      "text/plain": [
       "Downloading http://snap.stanford.edu/data/email-Enron.txt.gz to /var/tmp/turicreate-jovyan/186/8b682e9c-aa69-4fba-b505-bd494c7d6c2f.gz"
      ]
     },
     "metadata": {},
     "output_type": "display_data"
    },
    {
     "data": {
      "text/html": [
       "<pre>Finished parsing file http://snap.stanford.edu/data/email-Enron.txt.gz</pre>"
      ],
      "text/plain": [
       "Finished parsing file http://snap.stanford.edu/data/email-Enron.txt.gz"
      ]
     },
     "metadata": {},
     "output_type": "display_data"
    },
    {
     "data": {
      "text/html": [
       "<pre>Parsing completed. Parsed 367662 lines in 0.071031 secs.</pre>"
      ],
      "text/plain": [
       "Parsing completed. Parsed 367662 lines in 0.071031 secs."
      ]
     },
     "metadata": {},
     "output_type": "display_data"
    }
   ],
   "source": [
    "g = gl.load_sgraph('http://snap.stanford.edu/data/email-Enron.txt.gz', 'snap')"
   ]
  },
  {
   "cell_type": "markdown",
   "metadata": {},
   "source": [
    "***\n",
    "<div style=\"width:100%;\">\n",
    "    <div style=\"width:15%;float:left;font-size:20px;background-color:#557aba;color:#eff3f9;padding:6px;font-wight:bold;text-align:center;\">\n",
    "    Question 3\n",
    "    </div>\n",
    "    <div style=\"width:85%;float:right;font-size:16px;background-color:#dce4f2;font-wight:normal;color:black;padding:6px;\">\n",
    "    Report number of vertices and edges.\n",
    "    </div>\n",
    "</div>"
   ]
  },
  {
   "cell_type": "raw",
   "metadata": {},
   "source": [
    "## Place your answer Here\n",
    "\n",
    "{'num_edges': 367662, 'num_vertices': 36692}\n",
    "\n",
    "There are 367662 edges and 36692 vertices\n"
   ]
  },
  {
   "cell_type": "code",
   "execution_count": 27,
   "metadata": {},
   "outputs": [
    {
     "data": {
      "text/html": [
       "<pre>Finished parsing file http://snap.stanford.edu/data/email-Enron.txt.gz</pre>"
      ],
      "text/plain": [
       "Finished parsing file http://snap.stanford.edu/data/email-Enron.txt.gz"
      ]
     },
     "metadata": {},
     "output_type": "display_data"
    },
    {
     "data": {
      "text/html": [
       "<pre>Parsing completed. Parsed 367662 lines in 0.077463 secs.</pre>"
      ],
      "text/plain": [
       "Parsing completed. Parsed 367662 lines in 0.077463 secs."
      ]
     },
     "metadata": {},
     "output_type": "display_data"
    }
   ],
   "source": [
    "g = gl.load_sgraph('http://snap.stanford.edu/data/email-Enron.txt.gz','snap')"
   ]
  },
  {
   "cell_type": "code",
   "execution_count": 28,
   "metadata": {},
   "outputs": [
    {
     "name": "stdout",
     "output_type": "stream",
     "text": [
      "{'num_edges': 367662, 'num_vertices': 36692}\n"
     ]
    }
   ],
   "source": [
    "print(g.summary())"
   ]
  },
  {
   "cell_type": "markdown",
   "metadata": {},
   "source": [
    "<div style=\"width:100%;\">\n",
    "    <div style=\"width:15%;float:left;font-size:20px;background-color:#557aba;color:#eff3f9;padding:6px;font-wight:bold;text-align:center;\">\n",
    "    Question 4\n",
    "    </div>\n",
    "    <div style=\"width:85%;float:right;font-size:16px;background-color:#dce4f2;font-wight:normal;color:black;padding:6px;\">\n",
    "    Calculate PageRank for vertex 47.\n",
    "    </div>\n",
    "</div>"
   ]
  },
  {
   "cell_type": "raw",
   "metadata": {},
   "source": [
    "## Place your answer Here\n",
    "\n",
    "__id\tpagerank\n",
    "47\t0.30524878179512493"
   ]
  },
  {
   "cell_type": "markdown",
   "metadata": {},
   "source": [
    "***"
   ]
  },
  {
   "cell_type": "markdown",
   "metadata": {},
   "source": [
    "***\n",
    "<div style=\"width:100%;\">\n",
    "    <div style=\"width:15%;float:left;font-size:20px;background-color:#557aba;color:#eff3f9;padding:6px;font-wight:bold;text-align:center;\">\n",
    "    Question 5\n",
    "    </div>\n",
    "    <div style=\"width:85%;float:right;font-size:16px;background-color:#dce4f2;font-wight:normal;color:black;padding:6px;\">\n",
    "    Calculate the number of triangles in the graph. \n",
    "    </div>\n",
    "</div>  (A triangle is a complete subgraph with only three vertices.) "
   ]
  },
  {
   "cell_type": "raw",
   "metadata": {},
   "source": [
    "## Place your answer Here\n",
    "\n",
    "Initializing vertex ids.\n",
    "Removing duplicate (bidirectional) edges.\n",
    "Counting triangles...\n",
    "Finished in 0.472981 secs. \n",
    "Total triangles in the graph : 727044"
   ]
  },
  {
   "cell_type": "markdown",
   "metadata": {},
   "source": [
    "***"
   ]
  },
  {
   "cell_type": "markdown",
   "metadata": {},
   "source": [
    "***\n",
    "<div style=\"width:100%;\">\n",
    "    <div style=\"width:15%;float:left;font-size:20px;background-color:#557aba;color:#eff3f9;padding:6px;font-wight:bold;text-align:center;\">\n",
    "    Question 6\n",
    "    </div>\n",
    "    <div style=\"width:85%;float:right;font-size:16px;background-color:#dce4f2;font-wight:normal;color:black;padding:6px;\">\n",
    "    Calculate the number of connected components in the graph. A connected component of an undirected graph is a subgraph in which any two vertices are connected to  each other by paths.\n",
    "    </div>\n",
    "</div>  "
   ]
  },
  {
   "cell_type": "markdown",
   "metadata": {},
   "source": [
    "Reference \n",
    "https://apple.github.io/turicreate/docs/api/generated/turicreate.connected_components.ConnectedComponentsModel.html\n"
   ]
  },
  {
   "cell_type": "code",
   "execution_count": 32,
   "metadata": {},
   "outputs": [
    {
     "data": {
      "text/html": [
       "<pre>+-----------------------------+</pre>"
      ],
      "text/plain": [
       "+-----------------------------+"
      ]
     },
     "metadata": {},
     "output_type": "display_data"
    },
    {
     "data": {
      "text/html": [
       "<pre>| Number of components merged |</pre>"
      ],
      "text/plain": [
       "| Number of components merged |"
      ]
     },
     "metadata": {},
     "output_type": "display_data"
    },
    {
     "data": {
      "text/html": [
       "<pre>+-----------------------------+</pre>"
      ],
      "text/plain": [
       "+-----------------------------+"
      ]
     },
     "metadata": {},
     "output_type": "display_data"
    },
    {
     "data": {
      "text/html": [
       "<pre>| 114395                      |</pre>"
      ],
      "text/plain": [
       "| 114395                      |"
      ]
     },
     "metadata": {},
     "output_type": "display_data"
    },
    {
     "data": {
      "text/html": [
       "<pre>| 0                           |</pre>"
      ],
      "text/plain": [
       "| 0                           |"
      ]
     },
     "metadata": {},
     "output_type": "display_data"
    },
    {
     "data": {
      "text/html": [
       "<pre>+-----------------------------+</pre>"
      ],
      "text/plain": [
       "+-----------------------------+"
      ]
     },
     "metadata": {},
     "output_type": "display_data"
    },
    {
     "name": "stdout",
     "output_type": "stream",
     "text": [
      "<bound method CustomModel.summary of Class                                    : ConnectedComponentsModel\n",
      "\n",
      "Graph\n",
      "-----\n",
      "num_edges                                : 367662\n",
      "num_vertices                             : 36692\n",
      "\n",
      "Results\n",
      "-------\n",
      "graph                                    : SGraph. See m['graph']\n",
      "number of connected components           : 1065\n",
      "component size                           : SFrame. See m['component_size']\n",
      "vertex component id                      : SFrame. See m['component_id']\n",
      "\n",
      "Metrics\n",
      "-------\n",
      "training time (secs)                     : 0.1096\n",
      "\n",
      "Queryable Fields\n",
      "----------------\n",
      "component_id                             : An SFrame with each vertex's component id\n",
      "component_size                           : An SFrame with the size of each component\n",
      "graph                                    : A new SGraph with the color id as a vertex property\n",
      "training_time                            : Total training time of the model\n",
      ">\n"
     ]
    }
   ],
   "source": [
    "from turicreate import connected_components\n",
    "cc=connected_components.create(g)\n",
    "print(cc.summary)"
   ]
  },
  {
   "cell_type": "code",
   "execution_count": null,
   "metadata": {},
   "outputs": [],
   "source": [
    "## Place your answer Here\n",
    "\n",
    "+-----------------------------+\n",
    "| Number of components merged |\n",
    "+-----------------------------+\n",
    "| 114395                      |\n",
    "| 0                           |\n",
    "+-----------------------------+"
   ]
  },
  {
   "cell_type": "markdown",
   "metadata": {},
   "source": [
    "***"
   ]
  },
  {
   "cell_type": "markdown",
   "metadata": {},
   "source": [
    "***\n",
    "<div style=\"width:100%;\">\n",
    "    <div style=\"width:15%;float:left;font-size:20px;background-color:#557aba;color:#eff3f9;padding:6px;font-wight:bold;text-align:center;\">\n",
    "    Question 7\n",
    "    </div>\n",
    "    <div style=\"width:85%;float:right;font-size:16px;background-color:#dce4f2;font-wight:normal;color:black;padding:6px;\">\n",
    "    Write component id for vertex 47.\n",
    "    </div>\n",
    "</div> "
   ]
  },
  {
   "cell_type": "code",
   "execution_count": 33,
   "metadata": {},
   "outputs": [
    {
     "name": "stdout",
     "output_type": "stream",
     "text": [
      "+------+--------------+\n",
      "| __id | component_id |\n",
      "+------+--------------+\n",
      "|  5   |      18      |\n",
      "|  7   |      18      |\n",
      "|  8   |      18      |\n",
      "|  10  |      18      |\n",
      "|  27  |      18      |\n",
      "|  29  |      18      |\n",
      "|  33  |      18      |\n",
      "|  47  |      18      |\n",
      "|  50  |      18      |\n",
      "|  52  |      18      |\n",
      "+------+--------------+\n",
      "[36692 rows x 2 columns]\n",
      "Note: Only the head of the SFrame is printed.\n",
      "You can use print_rows(num_rows=m, num_columns=n) to print more rows and columns.\n"
     ]
    }
   ],
   "source": [
    "cc_ids=cc['component_id']\n",
    "print(cc_ids)"
   ]
  },
  {
   "cell_type": "code",
   "execution_count": null,
   "metadata": {},
   "outputs": [],
   "source": [
    "## Place your answer Here\n",
    "\n",
    "__id  component_id\n",
    "47    18"
   ]
  },
  {
   "cell_type": "markdown",
   "metadata": {},
   "source": [
    "<hr style=\"border-top: 5px solid purple; margin-top: 1px; margin-bottom: 1px\"></hr>"
   ]
  },
  {
   "cell_type": "markdown",
   "metadata": {},
   "source": [
    "<hr style=\"border-top: 5px solid orange; margin-top: 1px; margin-bottom: 1px\"></hr>\n",
    "\n",
    "Submission: Once you're finished, select \"Save and Checkpoint\" in the File menu and then execute the submit cell below. The result will contain a link that you can use to check that your assignment has been submitted successfully. If you submit more than once before the deadline, we will only grade your final submission. If you mistakenly submit the wrong one, you can go to the URL that you got at the very beginning of this homework and flag the correct version. To do so, go to the website, click on this assignment, and find the version you would like to have graded. There should be an option to flag that submission for grading. Good luck!"
   ]
  },
  {
   "cell_type": "code",
   "execution_count": null,
   "metadata": {},
   "outputs": [],
   "source": [
    "_ = ok.submit()"
   ]
  },
  {
   "cell_type": "markdown",
   "metadata": {},
   "source": [
    "<hr style=\"border-top: 5px solid orange; margin-top: 1px; margin-bottom: 1px\"></hr>"
   ]
  },
  {
   "cell_type": "code",
   "execution_count": null,
   "metadata": {},
   "outputs": [],
   "source": []
  }
 ],
 "metadata": {
  "kernelspec": {
   "display_name": "Python 3",
   "language": "python",
   "name": "python3"
  },
  "language_info": {
   "codemirror_mode": {
    "name": "ipython",
    "version": 3
   },
   "file_extension": ".py",
   "mimetype": "text/x-python",
   "name": "python",
   "nbconvert_exporter": "python",
   "pygments_lexer": "ipython3",
   "version": "3.7.6"
  }
 },
 "nbformat": 4,
 "nbformat_minor": 1
}
